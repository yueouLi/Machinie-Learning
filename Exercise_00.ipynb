{
 "cells": [
  {
   "cell_type": "markdown",
   "metadata": {},
   "source": [
    "# Introduction to Data Processing with Numpy and scikit-learn"
   ]
  },
  {
   "cell_type": "code",
   "execution_count": null,
   "metadata": {},
   "outputs": [],
   "source": [
    "%pip install numpy scikit-learn matplotlib\n",
    "import numpy as np\n",
    "import matplotlib.pyplot as plt"
   ]
  },
  {
   "cell_type": "markdown",
   "metadata": {},
   "source": [
    "## 1. The `ndarray` Datastructure\n",
    "\n",
    "The central datastructure offered by Numpy is the `ndarray`, a versatile multi-dimensional typed array datastructure with fixed size.\n",
    "Internally an `ndarray` is a struct with the following fields:\n",
    "- `data`: A pointer to a buffer of contiguous memory.\n",
    "- `shape`: A tuple of integers, describing the size of each dimension, i.e., `(3, 4)` denotes a $3 \\times 4$ matrix.\n",
    "- `dtype`: The datatype of the elements in `buffer`, e.g., `np.float64` or `np.int16`.\n",
    "- `strides`: A tuple of integers describing the byte stride size for each dimension."
   ]
  },
  {
   "cell_type": "code",
   "execution_count": null,
   "metadata": {},
   "outputs": [],
   "source": [
    "X = np.arange(12, dtype=np.int16) # Create a 1-dimensional int16 ndarray containing the numbers 0 to 11.\n",
    "print(f\"{X=}\")\n",
    "print(f\"X.data=<ptr 0x{X.ctypes.data:x}>\")\n",
    "print(f\"{X.shape=}\")\n",
    "print(f\"{X.dtype=} ({X.itemsize=} bytes)\")\n",
    "print(f\"{X.strides=}\")"
   ]
  },
  {
   "cell_type": "markdown",
   "metadata": {},
   "source": [
    "Numpy offers a large collection of efficient multi-threaded operations for the `ndarray` datastructure.\n",
    "Many operations can even be performed in $\\mathcal{O}(1)$ time, by simply changing the `shape` or `strides` tuples without touching the values in the `data` buffer.\n",
    "Three very useful operations, which (often) run in constant time, are reshaping, transposition and slicing.\n",
    "\n",
    "### 1.1. Reshaping and Transposition\n",
    "\n",
    "We begin by reshaping the array $X = [0, \\dots, 11]$ defined above into a $3 \\times 4$ matrix and then taking its transpose:"
   ]
  },
  {
   "cell_type": "code",
   "execution_count": null,
   "metadata": {},
   "outputs": [],
   "source": [
    "Y = X.reshape((3, 4))\n",
    "print(\"The array X viewed as a 3 by 4 matrix:\")\n",
    "print(Y)\n",
    "print(f\"Both arrays are backed by the same data buffer: X.data=<ptr 0x{X.ctypes.data:x}>, Y.data=<ptr 0x{Y.ctypes.data:x}>.\")\n",
    "print(f\"Only the shape and strides had to be changed:\")\n",
    "print(f\"{X.shape=} -> {Y.shape=}\")\n",
    "print(f\"{X.strides=} -> {Y.strides=}\")"
   ]
  },
  {
   "cell_type": "code",
   "execution_count": null,
   "metadata": {},
   "outputs": [],
   "source": [
    "print(\"Next, we transpose Y (via Y.T):\")\n",
    "print(Y.T)\n",
    "print(f\"This, again, does not change the data buffer: Y.data = Y.T.data = <ptr 0x{Y.T.ctypes.data:x}>\")\n",
    "print(f\"Only the shape and strides tuples had to be reversed:\")\n",
    "print(f\"{Y.shape=} -> {Y.T.shape=}\")\n",
    "print(f\"{Y.strides=} -> {Y.T.strides=}\")"
   ]
  },
  {
   "cell_type": "markdown",
   "metadata": {},
   "source": [
    "### 1.2. Slicing\n",
    "\n",
    "In addition to reshaping, we can also create subarrays from a given array in constant time: "
   ]
  },
  {
   "cell_type": "code",
   "execution_count": null,
   "metadata": {},
   "outputs": [],
   "source": [
    "print(\"Simple slicing example:\")\n",
    "print(f\"{X[2:]=}\")\n",
    "print(f\"Data pointer difference between X and X[2:]: {X[2:].ctypes.data - X.ctypes.data} bytes\")"
   ]
  },
  {
   "cell_type": "code",
   "execution_count": null,
   "metadata": {},
   "outputs": [],
   "source": [
    "print(\"Multidimensional slice + adding a third dimension of size 1:\")\n",
    "Y_sub = Y[1:, -3:-1, None]\n",
    "print(f\"{Y_sub=}, {Y_sub.shape=}\")\n",
    "print(f\"Data pointer difference between Y and Y_sub: {Y_sub.ctypes.data - Y.ctypes.data} bytes\")\n",
    "print(f\"{Y.strides=} -> {Y_sub.strides=}\")"
   ]
  },
  {
   "cell_type": "markdown",
   "metadata": {},
   "source": [
    "### 1.3. Vectorization and Broadcasting\n",
    "\n",
    "As we have just seen, quite a few operations on `ndarray`s can be performed very efficiently without actually changing the data buffer.\n",
    "However, achieving constant runtime is of course not always possible; performing an arithmetic operation on every element of an arbitrary $n$-element array is in $\\Omega(n)$.\n",
    "\n",
    "Numpy uses highly optimized multithreaded C implementations internally, which makes such array operations still very fast, much faster than using loops in Python.\n",
    "Replacing a slow Python loop with calls to efficient native parallel implementations is called *vectorization*."
   ]
  },
  {
   "cell_type": "code",
   "execution_count": null,
   "metadata": {},
   "outputs": [],
   "source": [
    "print(\"Computing the first 100000 square numbers using numpy:\")\n",
    "%timeit (np.arange(100000, dtype=np.int64) + 1) ** 2\n",
    "\n",
    "print(\"Computing the first 100000 square numbers using a Python list comprehension:\")\n",
    "%timeit [(z + 1) ** 2 for z in range(100000)]"
   ]
  },
  {
   "cell_type": "markdown",
   "metadata": {},
   "source": [
    "Vectorization can also be used to apply an element-wise filter to an array.\n",
    "We can, for example, use it to remove all odd numbers from the array $X = [0, \\dots, 11]$ we defined above: "
   ]
  },
  {
   "cell_type": "code",
   "execution_count": null,
   "metadata": {},
   "outputs": [],
   "source": [
    "print(\"Applying a boolean operator to an ndarray results in a boolean ndarray:\", X % 2 == 0)\n",
    "print(\"Boolean arrays can be used as indices, to filter other arrays:\", X[X % 2 == 0])"
   ]
  },
  {
   "cell_type": "markdown",
   "metadata": {},
   "source": [
    "Numpy can not only apply operations to each element of a given array, it also supports the combination of arrays of differing shapes via a technique called [*broadcasting*](https://numpy.org/doc/stable/user/basics.broadcasting.html).\n",
    "To get an intuition for what broadcasting is, we use it to add a vector to each row and to each column of the $3 \\times 4$ matrix $Y$:"
   ]
  },
  {
   "cell_type": "code",
   "execution_count": null,
   "metadata": {},
   "outputs": [],
   "source": [
    "print(f\"{Y=}\")\n",
    "a = np.array([1, 0, -1, 0])\n",
    "print(f\"We add {a=} to each row of Y:\")\n",
    "Y_a = Y + a.reshape((1, -1))\n",
    "print(Y_a)\n",
    "\n",
    "b = a[:-1]\n",
    "print(f\"We add {b=} to each column of Y:\")\n",
    "Y_b = Y + b.reshape((-1, 1))\n",
    "print(Y_b)"
   ]
  },
  {
   "cell_type": "markdown",
   "metadata": {},
   "source": [
    "The following example shows how broadcasting can even be used to compute the products of all pairs of elements in $X = [1, \\dots, 11]$:"
   ]
  },
  {
   "cell_type": "code",
   "execution_count": null,
   "metadata": {},
   "outputs": [],
   "source": [
    "X.reshape((-1, 1)) * X.reshape((1, -1))"
   ]
  },
  {
   "cell_type": "markdown",
   "metadata": {},
   "source": [
    "## 2. Implementing the $k$-Means Algorithm with Numpy\n",
    "\n",
    "We will now apply the techniques from the first section to implement the $k$-Means algorithm. First we generate synthetic data to apply the algorithm to."
   ]
  },
  {
   "cell_type": "markdown",
   "metadata": {},
   "source": [
    "### 2.1. Generating Example Data"
   ]
  },
  {
   "cell_type": "code",
   "execution_count": null,
   "metadata": {},
   "outputs": [],
   "source": [
    "rng = np.random.default_rng(seed=42)\n",
    "\n",
    "cluster_centers = np.array(\n",
    "  [[1, 1],\n",
    "   [9, 2],\n",
    "   [4.5, 11]])\n",
    "cluster1 = rng.multivariate_normal(cluster_centers[0], [[1, 0], [0, 1]], size=3000)\n",
    "cluster2 = rng.multivariate_normal(cluster_centers[1], [[1, 0.3], [0.3, 0.5]], size=3000)\n",
    "cluster3 = rng.multivariate_normal(cluster_centers[2], [[2, -1], [-1, 3]], size=3000)\n",
    "data = np.concatenate([cluster1, cluster2, cluster3])\n",
    "\n",
    "fig, ax = plt.subplots(figsize=(8, 6), dpi=(90))\n",
    "ax.set_title(\"Samples from three bivariate Gaussians\")\n",
    "ax.scatter(cluster1[:,0], cluster1[:,1], color=\"gray\")\n",
    "ax.scatter(cluster2[:,0], cluster2[:,1], color=\"gray\")\n",
    "ax.scatter(cluster3[:,0], cluster3[:,1], color=\"gray\")\n",
    "# for cc in cluster_centers:\n",
    "#   ax.text(cc[0], cc[1]+0.5, f\"({cc[0]}, {cc[1]})\", ha=\"center\")\n",
    "# ax.scatter(cluster_centers[:,0], cluster_centers[:,1], s=50, marker=\"x\", c=\"black\")\n",
    "plt.show()"
   ]
  },
  {
   "cell_type": "markdown",
   "metadata": {},
   "source": [
    "### 2.2. Naive Python Implementation of $k$-Means\n",
    "\n",
    "For comparison purposes, we now implement $k$-Means in Python without any vectorization."
   ]
  },
  {
   "cell_type": "code",
   "execution_count": null,
   "metadata": {},
   "outputs": [],
   "source": [
    "import random\n",
    "\n",
    "def squared_dist_naive(x, y):\n",
    "  return sum((xi - yi) ** 2 for xi, yi in zip(x, y))\n",
    "\n",
    "def cluster_mean_naive(points):\n",
    "  n = len(points)\n",
    "  if n == 0:\n",
    "    return\n",
    "  center = [sum(xs) / n for xs in zip(*points)]\n",
    "  return center\n",
    "\n",
    "def k_means_naive(data, k, max_iterations=100, seed=7):\n",
    "  rng = random.Random(seed)\n",
    "  dim = len(data[0])\n",
    "  # Generate k random cluster centers:\n",
    "  centers = [[rng.random() for _ in range(dim)] for _ in range(k)]\n",
    "  cluster_assignments = [-1] * len(data)\n",
    "\n",
    "  # Update clusters and cluster centers iteratively:\n",
    "  for _ in range(max_iterations):\n",
    "    clusters = [[] for _ in range(k)]\n",
    "    reassignment_flag = False\n",
    "\n",
    "    # Assign each point to the closest cluster center:\n",
    "    for j, point in enumerate(data):\n",
    "      closest_center_i = None\n",
    "      closest_center_dist = None\n",
    "      for i, center in enumerate(centers):\n",
    "        dist = squared_dist_naive(point, center)\n",
    "        if closest_center_dist is None or dist < closest_center_dist:\n",
    "          closest_center_i = i\n",
    "          closest_center_dist = dist\n",
    "      \n",
    "      clusters[closest_center_i].append(point)\n",
    "      if cluster_assignments[j] != closest_center_i:\n",
    "        cluster_assignments[j] = closest_center_i\n",
    "        reassignment_flag = True\n",
    "    \n",
    "    # If no point was reassigned, terminate:\n",
    "    if reassignment_flag is False:\n",
    "      return centers, clusters\n",
    "\n",
    "    # Update the center of each cluster to the mean of the points assigned to it:\n",
    "    for i, cluster in enumerate(clusters):\n",
    "      center = cluster_mean_naive(cluster)\n",
    "      if center is not None:\n",
    "        centers[i] = center\n",
    "\n",
    "  return centers, clusters"
   ]
  },
  {
   "cell_type": "code",
   "execution_count": null,
   "metadata": {},
   "outputs": [],
   "source": [
    "centers, clusters = k_means_naive(data, k=3)\n",
    "centers = np.array(centers)\n",
    "clusters = [np.array(cluster) for cluster in clusters]\n",
    "\n",
    "def plot_clusters(centers, clusters, suffix):\n",
    "  fig, ax = plt.subplots(figsize=(8, 6), dpi=(90))\n",
    "  ax.set_title(f\"k-Means Clusters and Centers ({suffix})\")\n",
    "  for cluster, center in zip(clusters, centers):\n",
    "    ax.scatter(cluster[:,0], cluster[:,1])\n",
    "    ax.text(center[0], center[1]+0.5, f\"({center[0]:.2f}, {center[1]:.2f})\", ha=\"center\")\n",
    "  ax.scatter(centers[:,0], centers[:,1], s=50, marker=\"x\", c=\"black\")\n",
    "  plt.show()\n",
    "  \n",
    "plot_clusters(centers, clusters, \"naive\")"
   ]
  },
  {
   "cell_type": "markdown",
   "metadata": {},
   "source": [
    "### 2.3. Vectorizing $k$-Means using Numpy\n",
    "\n",
    "We will now improve the naive implementation from section 2.2. by vectorizing it.\n",
    "Note that the $k$-Means essentially consists of three nested loops:\n",
    "1. Repeatedly updating the clusters and cluster centers (line 21).\n",
    "2. To update the cluster assignment of each datapoint we iterate over the datapoints (line 26).\n",
    "3. To find the closest cluster for a given datapoint, we iterate over the cluster centers (line 29).\n",
    "\n",
    "\n",
    "\n",
    "#### 2.3.1. Defining Helper Functions\n",
    "\n",
    "- **Task 1:**\n",
    "Implement a vectorized function `cluster_mean(X)`, which takes a matrix $X \\in \\mathbb{R}^{n \\times d}$ as input and outputs the mean $c \\in \\mathbb{R}^d$ of its row vectors. \n",
    "Tip: Take a look at the [documentation](https://numpy.org/doc/stable/reference/generated/numpy.mean.html) of `np.mean`."
   ]
  },
  {
   "cell_type": "code",
   "execution_count": null,
   "metadata": {},
   "outputs": [],
   "source": [
    "def cluster_mean(X):\n",
    "  return None # TODO\n",
    "\n",
    "\n",
    "# Test code:\n",
    "points_1 = np.arange(6).reshape((3,2))\n",
    "mean_1 = cluster_mean(points_1)\n",
    "assert np.all(mean_1 == np.array([2., 3.])), f\"Invalid mean: {mean_1}.\"\n",
    "points_2 = np.arange(6).reshape((2,3))\n",
    "mean_2 = cluster_mean(points_2)\n",
    "assert np.all(mean_2 == np.array([1.5, 2.5, 3.5])), f\"Invalid mean: {mean_2}.\"\n",
    "print(\"Great! Your implementation appears to behave correctly.\")"
   ]
  },
  {
   "cell_type": "markdown",
   "metadata": {},
   "source": [
    "- **Task 2:**\n",
    "Implement a vectorized function `pairwise_squared_dist(X, Y)`, which takes two matrices $X \\in \\mathbb{R}^{n \\times d}$ and $Y \\in \\mathbb{Y} \\in \\mathbb{R}^{m \\times d}$ as input and which outputs the matrix $D \\in \\mathbb{R}^{n \\times m}$ of the squared distances between all pairs of row vectors of $X$ and $Y$, i.e., $D_{i,j} = \\sum_{\\ell=1}^d {(X_{i,\\ell} - Y_{j,\\ell})}^2$."
   ]
  },
  {
   "cell_type": "code",
   "execution_count": null,
   "metadata": {},
   "outputs": [],
   "source": [
    "def pairwise_squared_dist(X, Y):\n",
    "  return None # TODO\n",
    "\n",
    "\n",
    "# Test code:\n",
    "points_1 = np.array([[0, 0], [0, 1], [1, 0], [1, 1]])\n",
    "points_2 = np.array([[0, 0], [2, 2]])\n",
    "assert np.all(pairwise_squared_dist(points_2, points_2) == np.array([[0, 8], [8, 0]])), \"Invalid.\"\n",
    "assert np.all(pairwise_squared_dist(points_1, points_2) == np.array([[0, 8], [1, 5], [1, 5], [2, 2]])), \"Invalid.\"\n",
    "assert np.all(pairwise_squared_dist(points_1, points_1) == np.array([[0, 1, 1, 2], [1, 0, 2, 1],[1, 2, 0, 1], [2, 1, 1, 0]])), \"Invalid.\"\n",
    "print(\"Great! Your implementation appears to behave correctly.\")"
   ]
  },
  {
   "cell_type": "markdown",
   "metadata": {},
   "source": [
    "- **Task 3:** Use [`np.argmin`](https://numpy.org/doc/stable/reference/generated/numpy.argmin.html) to determine the position of the smallest value in each row of a given matrix."
   ]
  },
  {
   "cell_type": "code",
   "execution_count": null,
   "metadata": {},
   "outputs": [],
   "source": [
    "M = np.array([[10, -1, 3], [0, 1, 2], [3, 4, 1], [4, 2, 5]])\n",
    "\n",
    "# Goal: Compute the array [1, 0, 2, 1]\n",
    "\n",
    "# TODO"
   ]
  },
  {
   "cell_type": "markdown",
   "metadata": {},
   "source": [
    "- **Task 4:**\n",
    "  Implement the function `cluster_means`. It should take a matrix $X \\in \\mathbb{R}^{n \\times d}$, an $n$-element integer array `cluster_idx` and an integer `k` as input.\n",
    "  \n",
    "  It should output a matrix $M \\in \\mathbb{R}^{k \\times d}$. The $i$-th row of $M$ (`M[i,:]`) should be the mean of all row vectors `X[j,:]` for which `cluster_idx[j] = i`.\n",
    "  \n",
    "  An example input with the expected output can be found in the test code below.\n",
    "  \n",
    "  *Hint: While it is possible to solve this task without any Python loops, it is also ok to use a loop over `range(k)` here.*"
   ]
  },
  {
   "cell_type": "code",
   "execution_count": null,
   "metadata": {},
   "outputs": [],
   "source": [
    "def cluster_means(X, cluster_idx, k):\n",
    "  return None # TODO\n",
    "\n",
    "\n",
    "# Test code:\n",
    "points = np.array(\n",
    "  [[1,1], # cluster 0\n",
    "   [2,3], # cluster 1\n",
    "   [1,2], # cluster 0\n",
    "   [2,2], # cluster 1\n",
    "   [5,5], # cluster 2\n",
    "   [2,4]  # cluster 1\n",
    "])\n",
    "points_idx = np.array([0, 1, 0, 1, 2, 1])\n",
    "\n",
    "# cluster_means should compute the mean of the first and third row of points; it should also compute the mean of the second, fourth and fifth row.\n",
    "assert np.all(cluster_means(points, points_idx, k=3) == np.array([[1., 1.5], [2., 3.], [5., 5.]])), \"Invalid.\"\n",
    "\n",
    "print(\"Great! Your implementation appears to behave correctly.\")"
   ]
  },
  {
   "cell_type": "markdown",
   "metadata": {},
   "source": [
    "- **Task 5:** \n",
    "  Combine your solutions for the previous tasks to implement the complete $k$-Means algorithm in a vectorized manner."
   ]
  },
  {
   "cell_type": "code",
   "execution_count": null,
   "metadata": {},
   "outputs": [],
   "source": [
    "def k_means(data, k=3, max_iterations=100, seed=42):\n",
    "  rng = np.random.default_rng(seed=42)\n",
    "  centers = rng.random((k, data.shape[-1]))\n",
    "  cluster_idx = np.zeros(len(data), dtype=np.int32)\n",
    "  \n",
    "  # Update clusters and cluster centers iteratively:\n",
    "  for _ in range(max_iterations):\n",
    "    # Assign each point to the closest cluster center:    \n",
    "    new_cluster_idx = cluster_idx # TODO: Compute the correct cluster indices\n",
    "    \n",
    "    # If no point was reassigned, terminate:\n",
    "    if np.all(new_cluster_idx == cluster_idx):\n",
    "      break\n",
    "    else:\n",
    "      cluster_idx = new_cluster_idx\n",
    "    \n",
    "    # Update the center of each cluster to the mean of the points assigned to it:\n",
    "    # TODO\n",
    "  \n",
    "  clusters = None # TODO\n",
    "  \n",
    "  return centers, clusters"
   ]
  },
  {
   "cell_type": "code",
   "execution_count": null,
   "metadata": {},
   "outputs": [],
   "source": [
    "# Test code:\n",
    "centers, clusters = k_means(data, k=3)\n",
    "plot_clusters(centers, clusters, \"numpy\")"
   ]
  },
  {
   "cell_type": "code",
   "execution_count": null,
   "metadata": {},
   "outputs": [],
   "source": [
    "print(\"Performance of the naive implementation:\")\n",
    "%timeit k_means_naive(data, k=3)\n",
    "print(\"Performance of the vectorized implementation:\")\n",
    "%timeit k_means(data, k=3)"
   ]
  },
  {
   "cell_type": "markdown",
   "metadata": {},
   "source": [
    "## 3. Using the Builtin $k$-Means Implementation of scikit-learn\n",
    "\n",
    "scikit-learn is a popular Python library which provides a large collection of ready-to-use machine learning algorithms and many useful utilities for implementing custom algorithms.\n",
    "$k$-Means is supported by scikit-learn [out of the box](https://scikit-learn.org/stable/modules/generated/sklearn.cluster.KMeans.html)."
   ]
  },
  {
   "cell_type": "code",
   "execution_count": null,
   "metadata": {},
   "outputs": [],
   "source": [
    "from sklearn.cluster import KMeans\n",
    "\n",
    "def k_means_sklearn(data, k):\n",
    "  km = KMeans(n_clusters=k, random_state=300, n_init=1, max_iter=100)\n",
    "  cluster_idx = km.fit_predict(data)\n",
    "  centers = km.cluster_centers_\n",
    "  clusters = [data[cluster_idx == i] for i in range(k)]\n",
    "  return centers, clusters"
   ]
  },
  {
   "cell_type": "code",
   "execution_count": null,
   "metadata": {},
   "outputs": [],
   "source": [
    "centers, clusters = k_means_sklearn(data, k=3)\n",
    "plot_clusters(centers, clusters, \"scikit\")\n",
    "print(\"Performance of the scikit-learn implementation:\")\n",
    "%timeit k_means_sklearn(data, k=3)"
   ]
  }
 ],
 "metadata": {
  "kernelspec": {
   "display_name": "Python 3.10.6 64-bit",
   "language": "python",
   "name": "python3"
  },
  "language_info": {
   "codemirror_mode": {
    "name": "ipython",
    "version": 3
   },
   "file_extension": ".py",
   "mimetype": "text/x-python",
   "name": "python",
   "nbconvert_exporter": "python",
   "pygments_lexer": "ipython3",
   "version": "3.10.6"
  },
  "orig_nbformat": 4,
  "vscode": {
   "interpreter": {
    "hash": "31f2aee4e71d21fbe5cf8b01ff0e069b9275f58929596ceb00d14d90e3e16cd6"
   }
  }
 },
 "nbformat": 4,
 "nbformat_minor": 2
}
